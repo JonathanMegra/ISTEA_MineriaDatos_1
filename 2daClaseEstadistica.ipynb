{
 "cells": [
  {
   "cell_type": "markdown",
   "metadata": {},
   "source": [
    "MODA (multiple)"
   ]
  },
  {
   "cell_type": "code",
   "execution_count": 1,
   "metadata": {},
   "outputs": [
    {
     "name": "stdout",
     "output_type": "stream",
     "text": [
      "La moda del dataset es de [22000, 25000]\n"
     ]
    }
   ],
   "source": [
    "import statistics\n",
    "dataset = [12000, 22000, 22000,25000,25000,34000,35000,37000,48000,58000]\n",
    "modaDataset = statistics.multimode(dataset)\n",
    "print(\"La moda del dataset es de\",modaDataset)"
   ]
  },
  {
   "cell_type": "markdown",
   "metadata": {},
   "source": [
    "MEDIA"
   ]
  },
  {
   "cell_type": "code",
   "execution_count": null,
   "metadata": {},
   "outputs": [],
   "source": [
    "import statistics\n",
    "dataset = [12000, 22000, 22000,25000,25000,34000,35000,37000,48000,58000]\n",
    "mediaDataset = statistics.mean(dataset)\n",
    "print(\"La media de este data set es de\",mediaDataset)\n"
   ]
  },
  {
   "cell_type": "markdown",
   "metadata": {},
   "source": [
    "MEDIANA"
   ]
  },
  {
   "cell_type": "code",
   "execution_count": null,
   "metadata": {},
   "outputs": [],
   "source": [
    "import statistics\n",
    "dataset = [12000, 22000, 22000,25000,25000,34000,35000,37000,48000,58000]\n",
    "medianaDataset = statistics.median(dataset)\n",
    "print(\"La mediana del dataset es de\", medianaDataset)"
   ]
  }
 ],
 "metadata": {
  "interpreter": {
   "hash": "a43817890dfcb031044405fd3b201b87a5abbefc5af362993bfa5e973e426b2a"
  },
  "kernelspec": {
   "display_name": "Python 3.10.6 64-bit",
   "language": "python",
   "name": "python3"
  },
  "language_info": {
   "codemirror_mode": {
    "name": "ipython",
    "version": 3
   },
   "file_extension": ".py",
   "mimetype": "text/x-python",
   "name": "python",
   "nbconvert_exporter": "python",
   "pygments_lexer": "ipython3",
   "version": "3.10.6"
  },
  "orig_nbformat": 4
 },
 "nbformat": 4,
 "nbformat_minor": 2
}
